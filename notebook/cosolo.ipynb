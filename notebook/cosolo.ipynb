{
 "cells": [
  {
   "cell_type": "code",
   "execution_count": 5,
   "metadata": {},
   "outputs": [
    {
     "data": {
      "text/html": [
       "<div>\n",
       "<style scoped>\n",
       "    .dataframe tbody tr th:only-of-type {\n",
       "        vertical-align: middle;\n",
       "    }\n",
       "\n",
       "    .dataframe tbody tr th {\n",
       "        vertical-align: top;\n",
       "    }\n",
       "\n",
       "    .dataframe thead th {\n",
       "        text-align: right;\n",
       "    }\n",
       "</style>\n",
       "<table border=\"1\" class=\"dataframe\">\n",
       "  <thead>\n",
       "    <tr style=\"text-align: right;\">\n",
       "      <th></th>\n",
       "      <th>ID</th>\n",
       "      <th>ProjectDescription</th>\n",
       "      <th>ProfileDescription</th>\n",
       "      <th>Preference</th>\n",
       "    </tr>\n",
       "  </thead>\n",
       "  <tbody>\n",
       "    <tr>\n",
       "      <th>0</th>\n",
       "      <td>1</td>\n",
       "      <td>We arethe transformation arm of a Fortune 100 ...</td>\n",
       "      <td>Market Research, Employee Fixed TermResume Exa...</td>\n",
       "      <td>N</td>\n",
       "    </tr>\n",
       "    <tr>\n",
       "      <th>1</th>\n",
       "      <td>2</td>\n",
       "      <td>We are a PE firm seeking a junior consulting r...</td>\n",
       "      <td>Director of Market ResearchResume Examples &amp; S...</td>\n",
       "      <td>N</td>\n",
       "    </tr>\n",
       "    <tr>\n",
       "      <th>2</th>\n",
       "      <td>3</td>\n",
       "      <td>We are a mid-market private equity firm lookin...</td>\n",
       "      <td>Market Research Senior ManagerResume Examples ...</td>\n",
       "      <td>N</td>\n",
       "    </tr>\n",
       "    <tr>\n",
       "      <th>3</th>\n",
       "      <td>4</td>\n",
       "      <td>I am launching a new commercial real estate pl...</td>\n",
       "      <td>Senior Manager, Corporate Market ResearchResum...</td>\n",
       "      <td>N</td>\n",
       "    </tr>\n",
       "    <tr>\n",
       "      <th>4</th>\n",
       "      <td>5</td>\n",
       "      <td>We are a PE-backed consumer products business ...</td>\n",
       "      <td>HBO Director, Market ResearchResume Examples &amp;...</td>\n",
       "      <td>N</td>\n",
       "    </tr>\n",
       "  </tbody>\n",
       "</table>\n",
       "</div>"
      ],
      "text/plain": [
       "   ID                                 ProjectDescription  \\\n",
       "0   1  We arethe transformation arm of a Fortune 100 ...   \n",
       "1   2  We are a PE firm seeking a junior consulting r...   \n",
       "2   3  We are a mid-market private equity firm lookin...   \n",
       "3   4  I am launching a new commercial real estate pl...   \n",
       "4   5  We are a PE-backed consumer products business ...   \n",
       "\n",
       "                                  ProfileDescription Preference  \n",
       "0  Market Research, Employee Fixed TermResume Exa...          N  \n",
       "1  Director of Market ResearchResume Examples & S...          N  \n",
       "2  Market Research Senior ManagerResume Examples ...          N  \n",
       "3  Senior Manager, Corporate Market ResearchResum...          N  \n",
       "4  HBO Director, Market ResearchResume Examples &...          N  "
      ]
     },
     "execution_count": 5,
     "metadata": {},
     "output_type": "execute_result"
    }
   ],
   "source": [
    "import pandas as pd\n",
    "import re\n",
    "import nltk\n",
    "from nltk.corpus import stopwords # Import the stop word list\n",
    "import numpy as np\n",
    "from sklearn.ensemble import RandomForestClassifier\n",
    "from sklearn.model_selection import train_test_split\n",
    "import pickle\n",
    "from sklearn.metrics import accuracy_score\n",
    "from matplotlib import pyplot as plt\n",
    "\n",
    "#nltk.download('stopwords')\n",
    "train = pd.read_csv(\"projects_profile_match.tsv\", header=0, \\\n",
    "                    delimiter=\"\\t\", quoting=3,encoding='latin-1')\n",
    "\n",
    "# create training and testing vars\n",
    "y = train.Preference\n",
    "X = train.drop('Preference', axis=1)\n",
    "train.head()"
   ]
  },
  {
   "cell_type": "code",
   "execution_count": 6,
   "metadata": {},
   "outputs": [
    {
     "name": "stdout",
     "output_type": "stream",
     "text": [
      "\n",
      "X_train:\n",
      "\n",
      "        ID                                 ProjectDescription  \\\n",
      "7116  7117  We are a startup blockchain/crypto company foc...   \n",
      "4176  4177  Multinational company in Indonesia is looking ...   \n",
      "5186  5187  One day while sitting in a very cool coffee sh...   \n",
      "3330  3331  A global pharmaceutical company is seeking a c...   \n",
      "1378  1379  I am looking to better understand the regulato...   \n",
      "\n",
      "                                     ProfileDescription  \n",
      "7116  Master degree in relevant discipline Lean/Six ...  \n",
      "4176  Finance / Accounting ManagerResume Examples & ...  \n",
      "5186  At least 4 years experience in Finance Transfo...  \n",
      "3330  Finance Accounting ManagerResume Examples & Sa...  \n",
      "1378  Finance & Accounting ManagerResume Examples & ...  \n",
      "(6848, 3)\n",
      "\n",
      "X_test:\n",
      "\n",
      "        ID                                 ProjectDescription  \\\n",
      "6579  6580  I would like assistance from someone to build ...   \n",
      "5252  5253  Rhynland LLC, a start-up financial advisory an...   \n",
      "5695  5696  I am looking for acandidate (must have a demon...   \n",
      "5091  5092  We are a global private equity firm. We are se...   \n",
      "6574  6575  Summary:We are requesting aconsulting project ...   \n",
      "\n",
      "                                     ProfileDescription  \n",
      "6579  Finance & Accounting ManagerResume Examples & ...  \n",
      "5252  Finance / Accounting ManagerResume Examples & ...  \n",
      "5695  Finance Accounting ManagerResume Examples & Sa...  \n",
      "5091  Finance / Accounting ManagerResume Examples & ...  \n",
      "6574  Senior Finance & Accounting ManagerResume Exam...  \n",
      "(1712, 3)\n"
     ]
    }
   ],
   "source": [
    "# Split the data in 80/20 for training and testing\n",
    "X_train, X_test, y_train, y_test = train_test_split(X, y,test_size=0.2)\n",
    "print(\"\\nX_train:\\n\")\n",
    "print(X_train.head())\n",
    "print(X_train.shape)\n",
    "\n",
    "print(\"\\nX_test:\\n\")\n",
    "print(X_test.head())\n",
    "print(X_test.shape)"
   ]
  },
  {
   "cell_type": "code",
   "execution_count": 7,
   "metadata": {},
   "outputs": [],
   "source": [
    "#Keep only letters. Remove everything else in the .\n",
    "letters_only = re.sub(\"[^a-zA-Z]\",           # The pattern to search for\n",
    "                      \" \",                   # The pattern to replace it with\n",
    "                      X_train[\"ProjectDescription\"][0])\n",
    "#print(letters_only)\n",
    "lower_case = letters_only.lower()        # Convert to lower case\n",
    "words = lower_case.split()\n",
    "#print(stopwords.words(\"english\"))\n",
    "\n",
    "# Clean up the tex. Remove stop words from \"words\"\n",
    "words = [w for w in words if not w in stopwords.words(\"english\")]\n",
    "#print(words)"
   ]
  },
  {
   "cell_type": "code",
   "execution_count": 8,
   "metadata": {},
   "outputs": [],
   "source": [
    "def description_to_words( raw_description ):\n",
    "    # Function to convert a raw description to a string of words\n",
    "    # The input is a single string (a raw description), and \n",
    "    # the output is a single string (a preprocessed description)\n",
    "    #\n",
    "   \n",
    "    # 1. Remove non-letters        \n",
    "    letters_only = re.sub(\"[^a-zA-Z]\", \" \", str(raw_description))\n",
    "    #\n",
    "    # 2. Convert to lower case, split into individual words\n",
    "    words = letters_only.lower().split()                             \n",
    "    #\n",
    "    # 3. In Python, searching a set is much faster than searching\n",
    "    #   a list, so convert the stop words to a set\n",
    "    stops = set(stopwords.words(\"english\"))                  \n",
    "    # \n",
    "    # 4. Remove stop words\n",
    "    meaningful_words = [w for w in words if not w in stops]   \n",
    "    #\n",
    "    # 5. Join the words back into one string separated by space, \n",
    "    # and return the result.\n",
    "    return( \" \".join( meaningful_words ))"
   ]
  },
  {
   "cell_type": "code",
   "execution_count": 9,
   "metadata": {},
   "outputs": [],
   "source": [
    "# Get the number of description based on the dataframe column size\n",
    "num_description = train[\"ProjectDescription\"].size\n",
    "\n",
    "# Initialize an empty list to hold the clean descriptions\n",
    "clean_train_description = []\n",
    "\n",
    "# Loop over each description; create an index i that goes from 0 to the length\n",
    "# of the description list \n",
    "for i in range( 0, num_description ):\n",
    "    # Call our function for each one, and add the result to the list of\n",
    "    # clean reviews\n",
    "    clean_train_description.append( description_to_words( train[\"ProjectDescription\"][i] ) )\n"
   ]
  },
  {
   "cell_type": "code",
   "execution_count": 10,
   "metadata": {},
   "outputs": [
    {
     "name": "stdout",
     "output_type": "stream",
     "text": [
      "Created bag of words\n"
     ]
    }
   ],
   "source": [
    "\n",
    "from sklearn.feature_extraction.text import CountVectorizer\n",
    "\n",
    "# Initialize the \"CountVectorizer\" object, which is scikit-learn's\n",
    "# bag of words tool.  \n",
    "vectorizer = CountVectorizer(analyzer = \"word\",   \\\n",
    "                             tokenizer = None,    \\\n",
    "                             preprocessor = None, \\\n",
    "                             stop_words = 'english',   \\\n",
    "                             max_features = 2000) \n",
    "\n",
    "# fit_transform() does two functions: First, it fits the model\n",
    "# and learns the vocabulary; second, it transforms our training data\n",
    "# into feature vectors. The input to fit_transform should be a list of \n",
    "# strings.\n",
    "train_data_features = vectorizer.fit_transform(clean_train_description)\n",
    "print(\"Created bag of words\")\n",
    "# Numpy arrays are easy to work with, so convert the result to an \n",
    "# array"
   ]
  },
  {
   "cell_type": "code",
   "execution_count": 11,
   "metadata": {},
   "outputs": [],
   "source": [
    "#train_data_features = train_data_features.toarray()\n",
    "\n",
    "vocab = vectorizer.get_feature_names()\n",
    "#print(vocab)\n",
    "\n",
    "# Initialize a Random Forest classifier with 100 trees\n",
    "forest = RandomForestClassifier(n_estimators = 100) \n",
    "\n",
    "# Fit the forest to the training set, using the bag of words as \n",
    "# features and the sentiment labels as the response variable\n",
    "#\n",
    "# This may take a few minutes to run\n",
    "forest = forest.fit( train_data_features, train[\"Preference\"] )\n",
    "\n",
    "#Serialize(Pickle) the forest model so that it can be used in the web front end to predict the values.\n",
    "fileObject = open('forest_pkl','wb')\n",
    "pickle.dump(forest,fileObject)   \n",
    "\n",
    "# here we close the fileObject\n",
    "fileObject.close()\n",
    "\n",
    "#clean_description = description_to_words( train[\"ProjectDescription\"][0] )\n",
    "#print(clean_review)"
   ]
  },
  {
   "cell_type": "code",
   "execution_count": 12,
   "metadata": {},
   "outputs": [
    {
     "name": "stdout",
     "output_type": "stream",
     "text": [
      "(1712, 3)\n",
      "        ID                                 ProjectDescription  \\\n",
      "6579  6580  I would like assistance from someone to build ...   \n",
      "5252  5253  Rhynland LLC, a start-up financial advisory an...   \n",
      "5695  5696  I am looking for acandidate (must have a demon...   \n",
      "5091  5092  We are a global private equity firm. We are se...   \n",
      "6574  6575  Summary:We are requesting aconsulting project ...   \n",
      "\n",
      "                                     ProfileDescription  \n",
      "6579  Finance & Accounting ManagerResume Examples & ...  \n",
      "5252  Finance / Accounting ManagerResume Examples & ...  \n",
      "5695  Finance Accounting ManagerResume Examples & Sa...  \n",
      "5091  Finance / Accounting ManagerResume Examples & ...  \n",
      "6574  Senior Finance & Accounting ManagerResume Exam...  \n"
     ]
    }
   ],
   "source": [
    "# we open the file for reading\n",
    "fileObject = open('forest_pkl','rb')  \n",
    "# load the object from the file into var b\n",
    "forest_model = pickle.load(fileObject)\n",
    "\n",
    "# Verify that there are 1712 rows and 3 columns\n",
    "print (X_test.shape)\n",
    "print(X_test.head())"
   ]
  },
  {
   "cell_type": "code",
   "execution_count": 14,
   "metadata": {},
   "outputs": [
    {
     "name": "stdout",
     "output_type": "stream",
     "text": [
      "1712\n"
     ]
    }
   ],
   "source": [
    "# Create an empty list and append the clean description one by one\n",
    "num_descriptions = len(X_test[\"ProjectDescription\"])\n",
    "print(num_descriptions)\n",
    "clean_test_description = []\n",
    "#Test data is random so we need to get the index to iterate the data\n",
    "key_iter = X_test.index.values"
   ]
  },
  {
   "cell_type": "code",
   "execution_count": 15,
   "metadata": {},
   "outputs": [
    {
     "name": "stdout",
     "output_type": "stream",
     "text": [
      "Cleaning and parsing the description...\n",
      "\n",
      "Preference 500 of 1712\n",
      "\n",
      "Preference 1000 of 1712\n",
      "\n",
      "Preference 1500 of 1712\n",
      "\n"
     ]
    }
   ],
   "source": [
    "print(\"Cleaning and parsing the description...\\n\")\n",
    "test_data_key = 0\n",
    "for i in range(0,num_descriptions):\n",
    "    if( (i+1) % 500 == 0 ):\n",
    "        print(\"Preference %d of %d\\n\" % (i+1, num_descriptions))\n",
    "    test_data_key = key_iter[i]\n",
    "    clean_description = description_to_words(X_test[\"ProfileDescription\"][test_data_key] )\n",
    "    clean_test_description.append(clean_description)"
   ]
  },
  {
   "cell_type": "code",
   "execution_count": null,
   "metadata": {},
   "outputs": [],
   "source": []
  },
  {
   "cell_type": "code",
   "execution_count": 16,
   "metadata": {},
   "outputs": [
    {
     "name": "stdout",
     "output_type": "stream",
     "text": [
      "        id Preference\n",
      "6579  6580          N\n",
      "5252  5253          N\n",
      "5695  5696          N\n",
      "5091  5092          N\n",
      "6574  6575          N\n",
      "5306  5307          N\n",
      "3896  3897          N\n",
      "564    565          N\n",
      "4111  4112          N\n",
      "5636  5637          N\n",
      "5955  5956          N\n",
      "2815  2816          N\n",
      "6644  6645          N\n",
      "4920  4921          N\n",
      "3185  3186          N\n",
      "8296  8297          N\n",
      "6700  6701          N\n",
      "2689  2690          N\n",
      "532    533          N\n",
      "6188  6189          N\n",
      "6061  6062          N\n",
      "2598  2599          N\n",
      "4711  4712          N\n",
      "2957  2958          N\n",
      "4697  4698          N\n",
      "6468  6469          N\n",
      "2459  2460          N\n",
      "4490  4491          N\n",
      "7666  7667          N\n",
      "606    607          N\n",
      "...    ...        ...\n",
      "3399  3400          N\n",
      "4928  4929          N\n",
      "8042  8043          N\n",
      "6698  6699          N\n",
      "5162  5163          N\n",
      "7710  7711          N\n",
      "2844  2845          N\n",
      "7357  7358          N\n",
      "5980  5981          N\n",
      "5295  5296          N\n",
      "1269  1270          N\n",
      "5215  5216          N\n",
      "5840  5841          N\n",
      "4379  4380          N\n",
      "6412  6413          N\n",
      "8270  8271          N\n",
      "5728  5729          N\n",
      "3957  3958          N\n",
      "3955  3956          N\n",
      "2690  2691          N\n",
      "7984  7985          N\n",
      "7371  7372          N\n",
      "3354  3355          N\n",
      "2663  2664          N\n",
      "5674  5675          N\n",
      "6364  6365          N\n",
      "5002  5003          N\n",
      "1310  1311          N\n",
      "6531  6532          N\n",
      "5965  5966          N\n",
      "\n",
      "[1712 rows x 2 columns]\n"
     ]
    }
   ],
   "source": [
    "# Get a bag of words for the test set, and convert to a numpy array\n",
    "test_data_features = vectorizer.transform(clean_test_description)\n",
    "test_data_features = test_data_features.toarray()\n",
    "\n",
    "# Use the random forest to make sentiment label predictions\n",
    "result = forest_model.predict(test_data_features)\n",
    "\n",
    "# Copy the results to a pandas dataframe with an \"id\" column and\n",
    "# a \"sentiment\" column\n",
    "output = pd.DataFrame(data={\"id\":X_test[\"ID\"], \"Preference\":result} )\n",
    "\n",
    "print(output)"
   ]
  },
  {
   "cell_type": "code",
   "execution_count": null,
   "metadata": {},
   "outputs": [],
   "source": [
    "print('Score:', forest.score(X_test, y_test))\n",
    "#Lets plot if this data matches the \n",
    "plt.scatter(y_test, result)\n",
    "plt.xlabel('True Values')\n",
    "plt.ylabel('Predictions')"
   ]
  },
  {
   "cell_type": "code",
   "execution_count": 175,
   "metadata": {},
   "outputs": [],
   "source": [
    "# Use pandas to write the comma-separated output file\n",
    "output.to_csv( \"test_validation_output.csv\", index=True, quoting=3 )"
   ]
  },
  {
   "cell_type": "markdown",
   "metadata": {},
   "source": []
  }
 ],
 "metadata": {
  "kernelspec": {
   "display_name": "Python 3",
   "language": "python",
   "name": "python3"
  },
  "language_info": {
   "codemirror_mode": {
    "name": "ipython",
    "version": 3
   },
   "file_extension": ".py",
   "mimetype": "text/x-python",
   "name": "python",
   "nbconvert_exporter": "python",
   "pygments_lexer": "ipython3",
   "version": "3.7.0"
  }
 },
 "nbformat": 4,
 "nbformat_minor": 2
}
